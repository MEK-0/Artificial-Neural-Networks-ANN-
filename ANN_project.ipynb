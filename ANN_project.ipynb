{
  "nbformat": 4,
  "nbformat_minor": 0,
  "metadata": {
    "colab": {
      "provenance": [],
      "authorship_tag": "ABX9TyPG5USg9U7VaTpnTmpMEE+w",
      "include_colab_link": true
    },
    "kernelspec": {
      "name": "python3",
      "display_name": "Python 3"
    },
    "language_info": {
      "name": "python"
    }
  },
  "cells": [
    {
      "cell_type": "markdown",
      "metadata": {
        "id": "view-in-github",
        "colab_type": "text"
      },
      "source": [
        "<a href=\"https://colab.research.google.com/github/MEK-0/Artificial-Neural-Networks-ANN-/blob/main/ANN_project.ipynb\" target=\"_parent\"><img src=\"https://colab.research.google.com/assets/colab-badge.svg\" alt=\"Open In Colab\"/></a>"
      ]
    },
    {
      "cell_type": "markdown",
      "source": [
        "##KÜTÜPHANELERİ EKLEME"
      ],
      "metadata": {
        "id": "-PEONR6Jechx"
      }
    },
    {
      "cell_type": "code",
      "execution_count": 1,
      "metadata": {
        "id": "4I57MRO4asfm"
      },
      "outputs": [],
      "source": [
        "import numpy as np\n",
        "import matplotlib.pyplot as plt\n",
        "from tensorflow.keras.datasets import mnist\n",
        "from tensorflow.keras.models import Sequential\n",
        "from tensorflow.keras.layers import Dense, Flatten\n",
        "from tensorflow.keras.utils import to_categorical\n"
      ]
    },
    {
      "cell_type": "markdown",
      "source": [
        "##VERİ SETİ KISMI"
      ],
      "metadata": {
        "id": "pMF6KQy5enqh"
      }
    },
    {
      "cell_type": "code",
      "source": [
        "# MNIST veri setini yükle\n",
        "(x_train, y_train), (x_test, y_test) = mnist.load_data()\n",
        "\n",
        "# Veriyi normalize et (0-255 arası piksel değerlerini 0-1 arası ölçeğe çekiyoruz)\n",
        "x_train = x_train / 255.0\n",
        "x_test = x_test / 255.0\n",
        "\n",
        "# Etiketleri one-hot encode yap\n",
        "y_train = to_categorical(y_train, 10)\n",
        "y_test = to_categorical(y_test, 10)\n"
      ],
      "metadata": {
        "id": "OklFaG4ga_NN"
      },
      "execution_count": 4,
      "outputs": []
    },
    {
      "cell_type": "markdown",
      "source": [
        "##GÖRÜNTÜ TEST ETME"
      ],
      "metadata": {
        "id": "kGaivzyter_n"
      }
    },
    {
      "cell_type": "code",
      "source": [
        "plt.imshow(x_train[0], cmap='gray')\n",
        "plt.title(f\"Label: {np.argmax(y_train[0])}\")\n",
        "plt.show()"
      ],
      "metadata": {
        "colab": {
          "base_uri": "https://localhost:8080/",
          "height": 452
        },
        "id": "BgitBT4FdSs2",
        "outputId": "5bb05319-4a6b-4118-e240-801d58c5f57c"
      },
      "execution_count": 5,
      "outputs": [
        {
          "output_type": "display_data",
          "data": {
            "text/plain": [
              "<Figure size 640x480 with 1 Axes>"
            ],
            "image/png": "[encoded data removed]"
          },
          "metadata": {}
        }
      ]
    },
    {
      "cell_type": "markdown",
      "source": [
        "##MODEL İŞLEM KISMI"
      ],
      "metadata": {
        "id": "cWDX0p0Tev9g"
      }
    },
    {
      "cell_type": "code",
      "source": [
        "# Modeli oluştur\n",
        "model = Sequential([\n",
        "    Flatten(input_shape=(28, 28)),  # 28x28'lik görüntüyü düzleştir\n",
        "    Dense(128, activation='relu'), # 128 nöronlu gizli katman\n",
        "    Dense(10, activation='softmax') # Çıkış katmanı (10 sınıf)\n",
        "])\n",
        "\n",
        "# Modeli derle\n",
        "model.compile(optimizer='adam',\n",
        "              loss='categorical_crossentropy',\n",
        "              metrics=['accuracy'])\n"
      ],
      "metadata": {
        "colab": {
          "base_uri": "https://localhost:8080/"
        },
        "id": "-NHZF6p1diS8",
        "outputId": "2d35012c-6242-4cf7-9f7d-c82bf113886d"
      },
      "execution_count": 6,
      "outputs": [
        {
          "output_type": "stream",
          "name": "stderr",
          "text": [
            "/usr/local/lib/python3.10/dist-packages/keras/src/layers/reshaping/flatten.py:37: UserWarning: Do not pass an `input_shape`/`input_dim` argument to a layer. When using Sequential models, prefer using an `Input(shape)` object as the first layer in the model instead.\n",
            "  super().__init__(**kwargs)\n"
          ]
        }
      ]
    },
    {
      "cell_type": "markdown",
      "source": [
        "##MODEL EĞİTİMİ"
      ],
      "metadata": {
        "id": "kJFlS9FBe0kU"
      }
    },
    {
      "cell_type": "code",
      "source": [
        "# Modeli eğitimi (ortalama 40 saniye)\n",
        "history = model.fit(x_train, y_train, epochs=5, batch_size=32, validation_split=0.2)\n"
      ],
      "metadata": {
        "colab": {
          "base_uri": "https://localhost:8080/"
        },
        "id": "beZoFno6drvk",
        "outputId": "01889e03-0670-4d7c-e9d6-708afd1dfa38"
      },
      "execution_count": 8,
      "outputs": [
        {
          "output_type": "stream",
          "name": "stdout",
          "text": [
            "Epoch 1/5\n",
            "\u001b[1m1500/1500\u001b[0m \u001b[32m━━━━━━━━━━━━━━━━━━━━\u001b[0m\u001b[37m\u001b[0m \u001b[1m6s\u001b[0m 4ms/step - accuracy: 0.9889 - loss: 0.0385 - val_accuracy: 0.9735 - val_loss: 0.0918\n",
            "Epoch 2/5\n",
            "\u001b[1m1500/1500\u001b[0m \u001b[32m━━━━━━━━━━━━━━━━━━━━\u001b[0m\u001b[37m\u001b[0m \u001b[1m10s\u001b[0m 4ms/step - accuracy: 0.9916 - loss: 0.0292 - val_accuracy: 0.9753 - val_loss: 0.0852\n",
            "Epoch 3/5\n",
            "\u001b[1m1500/1500\u001b[0m \u001b[32m━━━━━━━━━━━━━━━━━━━━\u001b[0m\u001b[37m\u001b[0m \u001b[1m7s\u001b[0m 5ms/step - accuracy: 0.9934 - loss: 0.0234 - val_accuracy: 0.9747 - val_loss: 0.0893\n",
            "Epoch 4/5\n",
            "\u001b[1m1500/1500\u001b[0m \u001b[32m━━━━━━━━━━━━━━━━━━━━\u001b[0m\u001b[37m\u001b[0m \u001b[1m8s\u001b[0m 4ms/step - accuracy: 0.9951 - loss: 0.0185 - val_accuracy: 0.9767 - val_loss: 0.0845\n",
            "Epoch 5/5\n",
            "\u001b[1m1500/1500\u001b[0m \u001b[32m━━━━━━━━━━━━━━━━━━━━\u001b[0m\u001b[37m\u001b[0m \u001b[1m7s\u001b[0m 5ms/step - accuracy: 0.9957 - loss: 0.0150 - val_accuracy: 0.9745 - val_loss: 0.0921\n"
          ]
        }
      ]
    },
    {
      "cell_type": "code",
      "source": [
        "# Modeli test seti üzerinde değerlendir\n",
        "test_loss, test_acc = model.evaluate(x_test, y_test, verbose=2)\n",
        "print(f\"Test Accuracy: {test_acc:.2f}\")\n"
      ],
      "metadata": {
        "colab": {
          "base_uri": "https://localhost:8080/"
        },
        "id": "wSKcPnQAeSs3",
        "outputId": "929d24ac-2c93-475e-ffbe-a1e194fddf14"
      },
      "execution_count": 9,
      "outputs": [
        {
          "output_type": "stream",
          "name": "stdout",
          "text": [
            "313/313 - 1s - 2ms/step - accuracy: 0.9765 - loss: 0.0843\n",
            "Test Accuracy: 0.98\n"
          ]
        }
      ]
    },
    {
      "cell_type": "markdown",
      "source": [
        "##ÇIKIŞ TEST KISMI"
      ],
      "metadata": {
        "id": "Ujrj4VkMe4oP"
      }
    },
    {
      "cell_type": "code",
      "source": [
        "# Test setinden bir örneği tahmin et\n",
        "predictions = model.predict(x_test)\n",
        "predicted_label = np.argmax(predictions[0])\n",
        "actual_label = np.argmax(y_test[0])\n",
        "\n",
        "# Sonuçları görselleştir\n",
        "plt.imshow(x_test[0], cmap='gray')\n",
        "plt.title(f\"Predicted: {predicted_label}, Actual: {actual_label}\")\n",
        "plt.show()\n"
      ],
      "metadata": {
        "colab": {
          "base_uri": "https://localhost:8080/",
          "height": 469
        },
        "id": "coFlgP79eVQ6",
        "outputId": "3a77572b-771f-4543-de89-777dd2d93445"
      },
      "execution_count": 11,
      "outputs": [
        {
          "output_type": "stream",
          "name": "stdout",
          "text": [
            "\u001b[1m313/313\u001b[0m \u001b[32m━━━━━━━━━━━━━━━━━━━━\u001b[0m\u001b[37m\u001b[0m \u001b[1m0s\u001b[0m 1ms/step\n"
          ]
        },
        {
          "output_type": "display_data",
          "data": {
            "text/plain": [
              "<Figure size 640x480 with 1 Axes>"
            ],
            "image/png": "[encoded data removed]"
          },
          "metadata": {}
        }
      ]
    }
  ]
}